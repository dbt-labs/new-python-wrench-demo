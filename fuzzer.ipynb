{
 "cells": [
  {
   "cell_type": "code",
   "execution_count": null,
   "id": "ce99a589-7a2e-4b6b-a13b-1dc4a17a6fc0",
   "metadata": {},
   "outputs": [],
   "source": [
    "# ! pip install pandas\n",
    "# ! pip install 'thefuzz[speedup]'"
   ]
  },
  {
   "cell_type": "code",
   "execution_count": null,
   "id": "3827f60f-0b87-4642-bc07-8c2625f3377a",
   "metadata": {},
   "outputs": [],
   "source": [
    "import pandas as pd\n",
    "from thefuzz import fuzz\n",
    "from thefuzz import process"
   ]
  },
  {
   "cell_type": "code",
   "execution_count": null,
   "id": "17773922-39ca-4780-a001-ea731ff86f80",
   "metadata": {},
   "outputs": [],
   "source": [
    "df_price = pd.read_csv('seeds/fruit_prices_fact.csv')\n",
    "df_price"
   ]
  },
  {
   "cell_type": "code",
   "execution_count": null,
   "id": "2a140bcf-925b-440a-8d25-e08ba9391b9c",
   "metadata": {},
   "outputs": [],
   "source": [
    "df_input = pd.read_csv('seeds/fruit_user_input.csv')\n",
    "df_input"
   ]
  },
  {
   "cell_type": "code",
   "execution_count": null,
   "id": "ea1f2ba8-dd07-4c25-9598-c549742d8e0a",
   "metadata": {},
   "outputs": [],
   "source": [
    "def custom_scorer(string):\n",
    "    '''\n",
    "    for a given string\n",
    "    return the best match out of the `fruit_name` column in the df_to table\n",
    "    '''\n",
    "    \n",
    "    x = process.extractOne(string,df_price[\"fruit_name\"], score_cutoff=60)\n",
    "    \n",
    "    if x is not None:\n",
    "        return x[0]\n",
    "    else:\n",
    "        return None"
   ]
  },
  {
   "cell_type": "code",
   "execution_count": null,
   "id": "cc221d15-b413-4917-be06-3b22b1c1dad6",
   "metadata": {},
   "outputs": [],
   "source": [
    "df_final = (df_input\n",
    "           # make new col, `fruit_name`, with best match against actual table\n",
    "           .assign(fruit_name = lambda df: df['fruit_user_input'].apply(custom_scorer))\n",
    "           # join the actual fruit price table\n",
    "           .merge(df_price, on=\"fruit_name\")\n",
    "           # # calculate subtotal\n",
    "           .assign(total= lambda df: df.quantity * df.cost)\n",
    "           # # find total for each user and sort descending by total price\n",
    "           .groupby(\"user_name\")['total'].sum()\n",
    "           .reset_index()\n",
    "           .sort_values(\"total\", ascending=False)\n",
    "          )\n",
    "df_final"
   ]
  },
  {
   "cell_type": "code",
   "execution_count": null,
   "id": "7eb5d9dc",
   "metadata": {},
   "outputs": [],
   "source": []
  }
 ],
 "metadata": {
  "kernelspec": {
   "display_name": "Python 3.9.13 64-bit",
   "language": "python",
   "name": "python3"
  },
  "language_info": {
   "codemirror_mode": {
    "name": "ipython",
    "version": 3
   },
   "file_extension": ".py",
   "mimetype": "text/x-python",
   "name": "python",
   "nbconvert_exporter": "python",
   "pygments_lexer": "ipython3",
   "version": "3.9.13"
  },
  "vscode": {
   "interpreter": {
    "hash": "949777d72b0d2535278d3dc13498b2535136f6dfe0678499012e853ee9abcab1"
   }
  }
 },
 "nbformat": 4,
 "nbformat_minor": 5
}
